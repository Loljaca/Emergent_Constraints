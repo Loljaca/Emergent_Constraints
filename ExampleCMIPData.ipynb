{
 "cells": [
  {
   "cell_type": "code",
   "execution_count": 9,
   "metadata": {},
   "outputs": [
    {
     "name": "stdout",
     "output_type": "stream",
     "text": [
      "Populating the interactive namespace from numpy and matplotlib\n"
     ]
    }
   ],
   "source": [
    "%pylab inline\n",
    "import netCDF4 as nc\n",
    "import cartopy.crs as ccrs\n",
    "from pathlib import Path\n"
   ]
  },
  {
   "cell_type": "code",
   "execution_count": 10,
   "metadata": {},
   "outputs": [],
   "source": [
    "data_names = ['tas_Amon_ACCESS1-0_historical*.nc', # 3.8\n",
    "    'tas_Amon_bcc-csm1-1_historical*.nc', # 2.8 \n",
    "    'tas_Amon_BNU-ESM_historical*.nc', # 4.1\n",
    "    'tas_Amon_CanESM2_historical*.nc', # 3.7\n",
    "    'tas_Amon_CCSM4_historical*.nc', # 2.9\n",
    "    'tas_Amon_CESM1-BGC_historical*.nc', # UNK\n",
    "    'tas_Amon_CESM1-CAM5_historical*.nc', # UNK\n",
    "    'tas_Amon_FIO-ESM_historical*.nc', # UNK  \n",
    "    'tas_Amon_CMCC-CESM_historical*.nc', # UNK\n",
    "    'tas_Amon_CMCC-CM_historical*.nc',#\n",
    "    'tas_Amon_CMCC-CMS_historical*.nc', #\n",
    "    'tas_Amon_EC-EARTH_historical*.nc', #\n",
    "    'tas_Amon_FGOALS-g2_historical*.nc', #\n",
    "    'tas_Amon_FIO-ESM_historical*.nc', #\n",
    "    'tas_Amon_GFDL-CM2p1_historical*.nc', #\n",
    "    'tas_Amon_GFDL-CM3_historical*.nc', # 4.0\n",
    "    'tas_Amon_GISS-E2-H_historical*.nc', # 2.3\n",
    "    'tas_Amon_HadCM3_historical*.nc', # 0\n",
    "    'tas_Amon_HadGEM2-ES_historical*.nc', # 4.6\n",
    "    'tas_Amon_inmcm4_historical*.nc', # 2.1\n",
    "    'tas_Amon_IPSL-CM5A-LR_historical*.nc', # 4.1\n",
    "    'tas_Amon_MIROC-ESM-CHEM_historical*.nc', #4.7\n",
    "    'tas_Amon_MIROC4h_historical*.nc', # 0\n",
    "    'tas_Amon_MIROC5_historical*.nc', #2.7\n",
    "    'tas_Amon_MPI-ESM-LR_historical*.nc', # 3.6\n",
    "    'tas_Amon_MRI-CGCM3_historical*.nc', # 2.6\n",
    "    'tas_Amon_NorESM1-M_historical*.nc'] # 2.8"
   ]
  },
  {
   "cell_type": "code",
   "execution_count": 19,
   "metadata": {},
   "outputs": [],
   "source": [
    "cs =  [3.8, 2.8, 4.1, 3.7, 2.9, \n",
    "       0, 0, 0, 0, 0, 0, 0, 0, 0, 0,\n",
    "       4.0, 2.3, 0, 4.6, 2.1, 4.1, 4.7, 0, 2.7, 3.6, 2.6,  2.8]"
   ]
  },
  {
   "cell_type": "code",
   "execution_count": 20,
   "metadata": {},
   "outputs": [],
   "source": [
    "def grid_areas(ds):\n",
    "    lats = ds.variables['lat'][:]\n",
    "    res = 180/ds.variables['lat'].shape[0]\n",
    "\n",
    "    def sin_d(degrees):\n",
    "        return np.sin(degrees / 180 * np.pi)\n",
    "\n",
    "    s = (sin_d(lats + (res / 2)) - sin_d(lats - (res / 2))) / 2\n",
    "    s[0] = 1 -  sin_d(90 - (res / 2))\n",
    "    s[-1] = 1 - sin_d(90 - res / 2)\n",
    "    areas = np.zeros([ds.variables['lat'].shape[0], ds.variables['lon'].shape[0]])\n",
    "    for i in range(ds.variables['lon'].shape[0]):\n",
    "        areas[:, i] = s / ds.variables['lon'].shape[0]\n",
    "        \n",
    "    return areas"
   ]
  },
  {
   "cell_type": "code",
   "execution_count": 21,
   "metadata": {},
   "outputs": [],
   "source": [
    "def Detrend(input_data):\n",
    "    p=40\n",
    "    q=20\n",
    "    n = int(np.floor(len(input_data)/12))\n",
    "    data_m = np.zeros([12,n])\n",
    "    data_m_temp=np.zeros([12,n-p,p])\n",
    "    data_m_mean = np.zeros([12,n-p])\n",
    "    data_m_detrend_point = np.zeros([12,n-p])\n",
    "    for k in range(0,12):\n",
    "        data_m[k] = [input_data[e*12+k] for e in range(0,n)]\n",
    "        for j in range(0,n-p):\n",
    "            data_m_temp[k][j]=[data_m[k][i+j] for i in range(0,p)]\n",
    "            data_m_mean[k][j]=np.mean(data_m_temp[k][j])\n",
    "            data_m_detrend_point[k][j] = data_m[k][j+q]-np.mean(data_m_temp[k][j])\n",
    "    data_all=np.transpose(data_m_detrend_point)\n",
    "    data_all=np.ravel(data_all)\n",
    "    return data_all"
   ]
  },
  {
   "cell_type": "code",
   "execution_count": 22,
   "metadata": {},
   "outputs": [],
   "source": [
    "fast_variable = np.zeros(len(data_names))\n",
    "\n",
    "for i in range(len(data_names)):\n",
    "    #filename = '/Users/g/Documents/CMIP5/'+ data_names[i]\n",
    "    #ds = nc.Dataset(filename) \n",
    "    #temperatures = ds['tas'][:,:,:] \n",
    "    \n",
    "    data_path = Path('/Users/g/Documents/CMIP5/')\n",
    "    files = sorted(data_path.glob(data_names[i]))\n",
    "    data = [nc.Dataset(f) for f in files]\n",
    "    temperatures = np.concatenate([d['tas'][:] for d in data])\n",
    "    \n",
    "    temp_time = np.sum(temperatures * grid_areas(data[0]), axis=(1,2))\n",
    "    \n",
    "    fast_variable[i] = np.std(Detrend(temp_time))"
   ]
  },
  {
   "cell_type": "code",
   "execution_count": 23,
   "metadata": {},
   "outputs": [
    {
     "data": {
      "text/plain": [
       "array([0.16518472, 0.17105998, 0.20518865, 0.19233936, 0.18688648,\n",
       "       0.17248759, 0.14154842, 0.16373587, 0.21531884, 0.13680638,\n",
       "       0.14322082, 0.12972169, 0.10954128, 0.16373587, 0.21898467,\n",
       "       0.21160013, 0.11320238, 0.1735979 , 0.1695811 , 0.1107912 ,\n",
       "       0.16950906, 0.14530507, 0.10616433, 0.1824974 , 0.17380728,\n",
       "       0.14966543, 0.14835025])"
      ]
     },
     "execution_count": 23,
     "metadata": {},
     "output_type": "execute_result"
    }
   ],
   "source": [
    "fast_variable"
   ]
  },
  {
   "cell_type": "code",
   "execution_count": 25,
   "metadata": {},
   "outputs": [
    {
     "data": {
      "text/plain": [
       "(2, 5)"
      ]
     },
     "execution_count": 25,
     "metadata": {},
     "output_type": "execute_result"
    },
    {
     "data": {
      "image/png": "[encoded data removed]",
      "text/plain": [
       "<Figure size 432x288 with 1 Axes>"
      ]
     },
     "metadata": {},
     "output_type": "display_data"
    }
   ],
   "source": [
    "plt.plot(fast_variable,cs, '.')\n",
    "plt.ylabel('ECS')\n",
    "plt.xlabel('Historical Temperature Variance in Anomoly')\n",
    "plt.ylim([2,5])"
   ]
  },
  {
   "cell_type": "code",
   "execution_count": 28,
   "metadata": {},
   "outputs": [
    {
     "data": {
      "text/plain": [
       "(2, 5)"
      ]
     },
     "execution_count": 28,
     "metadata": {},
     "output_type": "execute_result"
    },
    {
     "data": {
      "image/png": "[encoded data removed]",
      "text/plain": [
       "<Figure size 432x288 with 1 Axes>"
      ]
     },
     "metadata": {},
     "output_type": "display_data"
    }
   ],
   "source": [
    "plt.plot(fast_variable,cs, '.')\n",
    "plt.ylabel('ECS')\n",
    "plt.xlabel('Historical Temperature Variance in Anomoly')\n",
    "plt.ylim([2,5])"
   ]
  },
  {
   "cell_type": "code",
   "execution_count": null,
   "metadata": {},
   "outputs": [],
   "source": []
  }
 ],
 "metadata": {
  "kernelspec": {
   "display_name": "Python 3",
   "language": "python",
   "name": "python3"
  },
  "language_info": {
   "codemirror_mode": {
    "name": "ipython",
    "version": 3
   },
   "file_extension": ".py",
   "mimetype": "text/x-python",
   "name": "python",
   "nbconvert_exporter": "python",
   "pygments_lexer": "ipython3",
   "version": "3.6.5"
  }
 },
 "nbformat": 4,
 "nbformat_minor": 2
}
